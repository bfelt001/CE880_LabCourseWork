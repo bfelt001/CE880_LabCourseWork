{
  "cells": [
    {
      "cell_type": "markdown",
      "metadata": {
        "id": "view-in-github",
        "colab_type": "text"
      },
      "source": [
        "<a href=\"https://colab.research.google.com/github/bfelt001/CE880_LabCourseWork/blob/main/problem1.ipynb\" target=\"_parent\"><img src=\"https://colab.research.google.com/assets/colab-badge.svg\" alt=\"Open In Colab\"/></a>"
      ]
    },
    {
      "cell_type": "markdown",
      "metadata": {
        "id": "qWx7hh5m-xJx"
      },
      "source": [
        "Before you turn this problem in, make sure everything runs as expected. First, **restart the kernel** (in the menubar, select Kernel$\\rightarrow$Restart) and then **run all cells** (in the menubar, select Cell$\\rightarrow$Run All).\n",
        "\n",
        "Make sure you fill in any place that says `YOUR CODE HERE` or \"YOUR ANSWER HERE\", as well as your name and collaborators below:"
      ]
    },
    {
      "cell_type": "code",
      "execution_count": null,
      "metadata": {
        "id": "OLsd3mFA-xJz"
      },
      "outputs": [],
      "source": [
        "NAME = \"Breanne Felton\"\n",
        "COLLABORATORS = \"2321566\""
      ]
    },
    {
      "cell_type": "markdown",
      "metadata": {
        "id": "vfYTqsm4-xJ0"
      },
      "source": [
        "---"
      ]
    },
    {
      "cell_type": "markdown",
      "metadata": {
        "id": "EoxWk9BZ-xJ0"
      },
      "source": [
        "---\n",
        "# Welcome to CE880\n",
        "### This is your week-1 : Problem 1 notebook\n",
        "\n",
        "For this problem set, we'll be using the Jupyter notebook and please upload this notebook to [Google Colab](https://colab.research.google.com/).\n"
      ]
    },
    {
      "cell_type": "markdown",
      "metadata": {
        "id": "tDSp2OZQ-xJ1"
      },
      "source": [
        "---\n",
        "## Question 1:\n",
        "\n",
        "Write a Python function to calculate simple interest. The formula for calculating simple interest is:\n",
        "\n",
        "`Simple Interest (SI) = (Principal * Rate * Time) / 100`\n",
        "\n",
        "#### Parameters:\n",
        "* principal (float): The principal amount (initial amount of money).\n",
        "* rate (float): The rate of interest per time period.\n",
        "* time (float): The time for which the money is borrowed or invested.\n",
        "\n"
      ]
    },
    {
      "cell_type": "code",
      "execution_count": 23,
      "metadata": {
        "deletable": false,
        "nbgrader": {
          "cell_type": "code",
          "checksum": "87a59112e1535d2b0c417316e90ca4b3",
          "grade": false,
          "grade_id": "myPythagorean_ans",
          "locked": false,
          "schema_version": 3,
          "solution": true
        },
        "id": "JqT_wUgx-xJ1"
      },
      "outputs": [],
      "source": [
        "import math\n",
        "def calculate_simple_interest(principal, rate, time):\n",
        "    \"\"\"Create a function that takes three parameters (principal, rate, time)\n",
        "    and returns the calculated simple interest.\"\"\"\n",
        "    # YOUR CODE HERE\n",
        "    simpleInterest = float((principal * rate * time) / 100)\n",
        "    return simpleInterest\n",
        "    raise NotImplementedError()"
      ]
    },
    {
      "cell_type": "code",
      "execution_count": null,
      "metadata": {
        "colab": {
          "base_uri": "https://localhost:8080/"
        },
        "id": "jagfoRAe-xJ1",
        "outputId": "e885433e-6fff-4aa5-af39-79cea1ec2413"
      },
      "outputs": [
        {
          "output_type": "execute_result",
          "data": {
            "text/plain": [
              "150.0"
            ]
          },
          "metadata": {},
          "execution_count": 2
        }
      ],
      "source": [
        "calculate_simple_interest(1000, 5, 3)"
      ]
    },
    {
      "cell_type": "code",
      "execution_count": 24,
      "metadata": {
        "deletable": false,
        "editable": false,
        "nbgrader": {
          "cell_type": "code",
          "checksum": "aedb65e81e27514ad6834c0546eef7f8",
          "grade": true,
          "grade_id": "myPythagorean_test",
          "locked": false,
          "points": 1,
          "schema_version": 3,
          "solution": false
        },
        "id": "Zwl5DVXm-xJ1"
      },
      "outputs": [],
      "source": [
        "\"\"\"Check that squares returns the correct output for several inputs\"\"\"\n",
        "assert calculate_simple_interest(1000, 2.22, 3) == 66.6\n",
        "assert calculate_simple_interest(5000, 0, 3) == 0\n",
        "assert calculate_simple_interest(5000, 5, 3) == 750"
      ]
    },
    {
      "cell_type": "markdown",
      "metadata": {
        "id": "nWbuwcEZ-xJ1"
      },
      "source": [
        "---\n",
        "\n",
        "## Question 2:\n",
        "\n",
        "Write a Python function to calculate the volume of a cylinder. The formula for calculating the volume of a cylinder is:\n",
        "\n",
        "`Volume = π * radius^2 * height`\n",
        "\n",
        "Hint: For simplicity, you can use the value of π as 3.14159.\n",
        "\n",
        "\n",
        "#### Parameters:\n",
        "* radius (float): The radius of the cylinder's base.\n",
        "* height (float): The height of the cylinder."
      ]
    },
    {
      "cell_type": "code",
      "execution_count": 21,
      "metadata": {
        "deletable": false,
        "nbgrader": {
          "cell_type": "code",
          "checksum": "6885c60c01db70341c220ceae4bd1414",
          "grade": false,
          "grade_id": "areaofTrap_ans",
          "locked": false,
          "schema_version": 3,
          "solution": true
        },
        "id": "suT9z9-G-xJ2"
      },
      "outputs": [],
      "source": [
        "def calculate_cylinder_volume(radius, height):\n",
        "    \"\"\"Write a Python function to calculate the volume of a cylinder.\"\"\"\n",
        "    # YOUR CODE HERE\n",
        "    volume = float(3.14159 * radius**2 * height)\n",
        "    return volume\n",
        "    raise NotImplementedError()"
      ]
    },
    {
      "cell_type": "code",
      "execution_count": null,
      "metadata": {
        "colab": {
          "base_uri": "https://localhost:8080/"
        },
        "id": "Mr-gxvoH-xJ2",
        "outputId": "42051046-3819-4961-9c14-52fdcd1d5896"
      },
      "outputs": [
        {
          "output_type": "execute_result",
          "data": {
            "text/plain": [
              "1256.636"
            ]
          },
          "metadata": {},
          "execution_count": 8
        }
      ],
      "source": [
        "calculate_cylinder_volume(10, 4)"
      ]
    },
    {
      "cell_type": "code",
      "execution_count": 22,
      "metadata": {
        "deletable": false,
        "editable": false,
        "nbgrader": {
          "cell_type": "code",
          "checksum": "f5e989aa1b4c584947cd9dcac44efcc0",
          "grade": true,
          "grade_id": "areaofTrap_test",
          "locked": false,
          "points": 1,
          "schema_version": 3,
          "solution": false
        },
        "id": "uuI6413Q-xJ2"
      },
      "outputs": [],
      "source": [
        "\"\"\"Checkthe correct answer for various inputs.\"\"\"\n",
        "assert calculate_cylinder_volume(5, 10) == 785.3975\n",
        "assert calculate_cylinder_volume(15, 8) == 5654.862\n",
        "assert calculate_cylinder_volume(20, 3) == 3769.908"
      ]
    },
    {
      "cell_type": "markdown",
      "metadata": {
        "id": "HohKrcEA-xJ2"
      },
      "source": [
        "---\n",
        "## Question 3:\n",
        "\n",
        " Write a Python program to reverse a string. Example: Sample String: `1234xyz` Expected Output: `zyx4321`"
      ]
    },
    {
      "cell_type": "code",
      "execution_count": 50,
      "metadata": {
        "deletable": false,
        "nbgrader": {
          "cell_type": "code",
          "checksum": "98cb7a38e7c264c61d0ff0332d879772",
          "grade": false,
          "grade_id": "reversestring_ans",
          "locked": false,
          "schema_version": 3,
          "solution": true,
          "task": false
        },
        "id": "Ajh1AnNj-xJ2"
      },
      "outputs": [],
      "source": [
        "def reverse_string(str1):\n",
        "    \"\"\"Write your code here to reverse the string\"\"\"\n",
        "\n",
        "    # YOUR CODE HERE\n",
        "    reverse = []\n",
        "    for i in str1:\n",
        "      reverse.insert(0,i)\n",
        "\n",
        "    return f\"{''.join(reverse)}\"\n",
        "    print(reverse)\n",
        "    raise NotImplementedError()"
      ]
    },
    {
      "cell_type": "code",
      "execution_count": 51,
      "metadata": {
        "id": "gS0ekDt3-xJ2",
        "colab": {
          "base_uri": "https://localhost:8080/",
          "height": 35
        },
        "outputId": "a7876032-4903-4c1b-a981-76eb3f62dcb5"
      },
      "outputs": [
        {
          "output_type": "execute_result",
          "data": {
            "text/plain": [
              "'TPGtahC'"
            ],
            "application/vnd.google.colaboratory.intrinsic+json": {
              "type": "string"
            }
          },
          "metadata": {},
          "execution_count": 51
        }
      ],
      "source": [
        "reverse_string('ChatGPT')"
      ]
    },
    {
      "cell_type": "code",
      "execution_count": 52,
      "metadata": {
        "deletable": false,
        "editable": false,
        "nbgrader": {
          "cell_type": "code",
          "checksum": "13cc3e56b0754d7b6c57e0c91a267c8c",
          "grade": true,
          "grade_id": "reversestring_test",
          "locked": true,
          "points": 1,
          "schema_version": 3,
          "solution": false,
          "task": false
        },
        "id": "7NU4F-IN-xJ3"
      },
      "outputs": [],
      "source": [
        "\"\"\"Check that areaofTrap returns the correct answer for various inputs.\"\"\"\n",
        "assert reverse_string('Humanitarian') == 'nairatinamuH'\n",
        "assert reverse_string('ChatGPT') == 'TPGtahC'\n",
        "assert reverse_string('Data Science') == 'ecneicS ataD'\n",
        "assert reverse_string('CE880') == '088EC'"
      ]
    },
    {
      "cell_type": "markdown",
      "metadata": {
        "id": "s8Nj9asY-xJ3"
      },
      "source": [
        "## Question 4:\n",
        "Write a Python program to print the odd numbers from a given list and in ascending order.\n",
        "\n",
        "Sample List : `[1, 2, 3, 4, 5, 6, 7, 8, 9]` Expected Result : `[1, 3, 5, 7, 9]`"
      ]
    },
    {
      "cell_type": "code",
      "execution_count": 25,
      "metadata": {
        "deletable": false,
        "nbgrader": {
          "cell_type": "code",
          "checksum": "fe429958636b60d9eb8395e0a710f02f",
          "grade": false,
          "grade_id": "even_num_ans",
          "locked": false,
          "schema_version": 3,
          "solution": true,
          "task": false
        },
        "id": "M8XyCGVb-xJ3"
      },
      "outputs": [],
      "source": [
        "import numpy as np\n",
        "def odd_num(lst_1):\n",
        "    \"\"\"Write a Python program to print the odd numbers from a given list and in ascending order.\"\"\"\n",
        "    # YOUR CODE HERE\n",
        "\n",
        "    odd_numbers = []\n",
        "    for i in lst_1:\n",
        "      if i % 2 != 0:\n",
        "        odd_numbers.append(i)\n",
        "\n",
        "    odd_numbers.sort()\n",
        "    return odd_numbers\n",
        "\n",
        "    raise NotImplementedError()"
      ]
    },
    {
      "cell_type": "code",
      "execution_count": 26,
      "metadata": {
        "id": "SYnzV4dM-xJ3",
        "colab": {
          "base_uri": "https://localhost:8080/"
        },
        "outputId": "7345d4bf-383c-4d83-a251-c02970b8da18"
      },
      "outputs": [
        {
          "output_type": "execute_result",
          "data": {
            "text/plain": [
              "[3, 11, 17, 19]"
            ]
          },
          "metadata": {},
          "execution_count": 26
        }
      ],
      "source": [
        "odd_num([2, 3, 14, 17, 8, 19, 11, 14])"
      ]
    },
    {
      "cell_type": "code",
      "execution_count": 27,
      "metadata": {
        "deletable": false,
        "editable": false,
        "nbgrader": {
          "cell_type": "code",
          "checksum": "67fe5215c4ef4d5ef23374a0ac689eb8",
          "grade": true,
          "grade_id": "odd_num_test",
          "locked": true,
          "points": 1,
          "schema_version": 3,
          "solution": false,
          "task": false
        },
        "id": "qKvXta3k-xJ3"
      },
      "outputs": [],
      "source": [
        "\"\"\"Check that odd_num returns the correct answer for various inputs.\"\"\"\n",
        "assert odd_num([1, 2, 3, 4, 6, 7, 8, 9]) == [1, 3, 7, 9]\n",
        "assert odd_num([2, 3, 4, 7, 8, 9, 11, 14]) == [3, 7, 9, 11]\n",
        "assert odd_num([2, 3, 14, 17, 8, 19, 11, 14]) == [3, 11, 17, 19]"
      ]
    },
    {
      "cell_type": "markdown",
      "metadata": {
        "id": "dzy8vDPR-xJ3"
      },
      "source": [
        "## Question 5:\n",
        "Write a Python function to create and print a list where the values are cube of numbers between `1` and `n`, where `n` is user defined number: Example `cube_values(4) == [1, 8, 27, 64]`"
      ]
    },
    {
      "cell_type": "code",
      "execution_count": 11,
      "metadata": {
        "deletable": false,
        "nbgrader": {
          "cell_type": "code",
          "checksum": "7cb495f5a8b8fe53614cbf5ddcaacf90",
          "grade": false,
          "grade_id": "sqr_values_ans",
          "locked": false,
          "schema_version": 3,
          "solution": true,
          "task": false
        },
        "id": "s36Cj91p-xJ3"
      },
      "outputs": [],
      "source": [
        "def cube_values(n):\n",
        "    \"\"\"Write a Python program to print the cube of numbers between 1 and `n`\"\"\"\n",
        "\n",
        "    # YOUR CODE HERE\n",
        "    cubeList = []\n",
        "    for i in range(1,n+1):\n",
        "      cube = i**3\n",
        "      cubeList.insert(i,cube)\n",
        "      i+=1\n",
        "    return cubeList\n",
        "\n",
        "    print(cubeList)\n",
        "    raise NotImplementedError()"
      ]
    },
    {
      "cell_type": "code",
      "execution_count": 13,
      "metadata": {
        "id": "vI4BtqHq-xJ3",
        "colab": {
          "base_uri": "https://localhost:8080/"
        },
        "outputId": "67c2b881-4421-4dd9-b519-9e17d14e6b6e"
      },
      "outputs": [
        {
          "output_type": "execute_result",
          "data": {
            "text/plain": [
              "[1, 8, 27, 64, 125, 216, 343, 512, 729]"
            ]
          },
          "metadata": {},
          "execution_count": 13
        }
      ],
      "source": [
        "cube_values(9)"
      ]
    },
    {
      "cell_type": "code",
      "execution_count": 12,
      "metadata": {
        "deletable": false,
        "editable": false,
        "nbgrader": {
          "cell_type": "code",
          "checksum": "3b2fc7a12df60f66f039d427cc797b1b",
          "grade": true,
          "grade_id": "sqr_values_test",
          "locked": true,
          "points": 1,
          "schema_version": 3,
          "solution": false,
          "task": false
        },
        "id": "Nv1SwNmT-xJ3"
      },
      "outputs": [],
      "source": [
        "\"\"\"Check that cube_values returns the correct answer for various inputs.\"\"\"\n",
        "assert cube_values(4) == [1, 8, 27, 64]\n",
        "assert cube_values(8) == [1, 8, 27, 64, 125, 216, 343, 512]\n",
        "assert cube_values(9) == [1, 8, 27, 64, 125, 216, 343, 512, 729]"
      ]
    },
    {
      "cell_type": "markdown",
      "metadata": {
        "id": "lN1R4LSW-xJ4"
      },
      "source": [
        "## Question 6:\n",
        "\n",
        "Create a function that takes a string and counts the total number of capital letters in that string.\n",
        "\n"
      ]
    },
    {
      "cell_type": "code",
      "execution_count": 18,
      "metadata": {
        "deletable": false,
        "nbgrader": {
          "cell_type": "code",
          "checksum": "33d39887c0340fd72d1252b89745ca8d",
          "grade": false,
          "grade_id": "comb_ans",
          "locked": false,
          "schema_version": 3,
          "solution": true,
          "task": false
        },
        "id": "nNbFCmwk-xJ4"
      },
      "outputs": [],
      "source": [
        "def count_capital_letters(input_string):\n",
        "    \"\"\"Write a Python function to count the number of capital letters in a given string.\"\"\"\n",
        "    # YOUR CODE HERE\n",
        "    for i in input_string:\n",
        "      x = sum(map(str.isupper, input_string))\n",
        "\n",
        "      return x\n",
        "      print(x)\n",
        "\n",
        "    raise NotImplementedError()"
      ]
    },
    {
      "cell_type": "code",
      "execution_count": 20,
      "metadata": {
        "id": "w4kJvueT-xJ4",
        "colab": {
          "base_uri": "https://localhost:8080/"
        },
        "outputId": "20e14d07-8795-4035-a318-246a3a6de90b"
      },
      "outputs": [
        {
          "output_type": "execute_result",
          "data": {
            "text/plain": [
              "2"
            ]
          },
          "metadata": {},
          "execution_count": 20
        }
      ],
      "source": [
        "count_capital_letters('CE880!')"
      ]
    },
    {
      "cell_type": "code",
      "execution_count": 19,
      "metadata": {
        "deletable": false,
        "editable": false,
        "nbgrader": {
          "cell_type": "code",
          "checksum": "71c0a59e2ca4afc41553efb1cc070d3a",
          "grade": true,
          "grade_id": "comb_test",
          "locked": true,
          "points": 1,
          "schema_version": 3,
          "solution": false,
          "task": false
        },
        "id": "55xdDoTu-xJ4"
      },
      "outputs": [],
      "source": [
        "assert count_capital_letters('Essex University') == 2\n",
        "assert count_capital_letters('Camulodunum the Ancient Roman') == 3\n",
        "assert count_capital_letters('cHgYjHkYhUgYj12') == 6"
      ]
    }
  ],
  "metadata": {
    "kernelspec": {
      "display_name": "Python 3",
      "language": "python",
      "name": "python3"
    },
    "language_info": {
      "codemirror_mode": {
        "name": "ipython",
        "version": 3
      },
      "file_extension": ".py",
      "mimetype": "text/x-python",
      "name": "python",
      "nbconvert_exporter": "python",
      "pygments_lexer": "ipython3",
      "version": "3.7.11"
    },
    "colab": {
      "provenance": [],
      "include_colab_link": true
    }
  },
  "nbformat": 4,
  "nbformat_minor": 0
}