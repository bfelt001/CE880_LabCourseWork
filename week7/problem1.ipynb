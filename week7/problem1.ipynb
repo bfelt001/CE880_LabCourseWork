{
  "cells": [
    {
      "cell_type": "markdown",
      "metadata": {
        "id": "view-in-github",
        "colab_type": "text"
      },
      "source": [
        "<a href=\"https://colab.research.google.com/github/bfelt001/CE880_LabCourseWork/blob/main/week7/problem1.ipynb\" target=\"_parent\"><img src=\"https://colab.research.google.com/assets/colab-badge.svg\" alt=\"Open In Colab\"/></a>"
      ]
    },
    {
      "cell_type": "markdown",
      "metadata": {
        "id": "VIhooZxKJMyv"
      },
      "source": [
        "Before you turn this problem in, make sure everything runs as expected. First, **restart the kernel** (in the menubar, select Kernel$\\rightarrow$Restart) and then **run all cells** (in the menubar, select Cell$\\rightarrow$Run All).\n",
        "\n",
        "Make sure you fill in any place that says `YOUR CODE HERE` or \"YOUR ANSWER HERE\", as well as your name and collaborators below:"
      ]
    },
    {
      "cell_type": "code",
      "execution_count": null,
      "metadata": {
        "id": "r3i7j1lnJMyz"
      },
      "outputs": [],
      "source": [
        "NAME = \"Breanne Felton\"\n",
        "COLLABORATORS = \"2321566\""
      ]
    },
    {
      "cell_type": "markdown",
      "metadata": {
        "id": "SVst3ZX7JMy0"
      },
      "source": [
        "---"
      ]
    },
    {
      "cell_type": "markdown",
      "metadata": {
        "id": "EgQZmageJMy0"
      },
      "source": [
        "---\n",
        "# Welcome to CE880\n",
        "### This is your week-7 : Problem notebook\n",
        "\n",
        "For this problem set, we'll be using the Jupyter notebook and please upload this notebook to [Google Colab](https://colab.research.google.com/)."
      ]
    },
    {
      "cell_type": "markdown",
      "metadata": {
        "id": "ynErxSUUJMy0"
      },
      "source": [
        "---\n",
        "## Question 1:\n",
        "#### Bootstrapping\n",
        "Write a Python function to estimate the `mean` of the `heights` using `bootstrapping`. Your function should take the sample data as input and generate multiple bootstrap samples to compute the estimates."
      ]
    },
    {
      "cell_type": "code",
      "execution_count": 3,
      "metadata": {
        "deletable": false,
        "nbgrader": {
          "cell_type": "code",
          "checksum": "d43774bc32d440b4a8fa05983f56f659",
          "grade": false,
          "grade_id": "my_bootstrapping_ans",
          "locked": false,
          "schema_version": 3,
          "solution": true,
          "task": false
        },
        "id": "iTje56UhJMy1",
        "colab": {
          "base_uri": "https://localhost:8080/"
        },
        "outputId": "2465ce5e-f7ff-432c-8066-6deff504a88b"
      },
      "outputs": [
        {
          "output_type": "execute_result",
          "data": {
            "text/plain": [
              "175.0"
            ]
          },
          "metadata": {},
          "execution_count": 3
        }
      ],
      "source": [
        "import numpy as np\n",
        "\n",
        "def bootstrap_estimate_height(sample_data, num_samples, sample_size):\n",
        "    \"\"\"\n",
        "    Estimate the mean of heights using bootstrapping.\n",
        "\n",
        "    Parameters:\n",
        "    - sample_data (numpy.ndarray): Sample data containing heights.\n",
        "    - num_samples (int): Number of bootstrap samples to generate.\n",
        "    - sample_size (int): Size of each bootstrap sample.\n",
        "\n",
        "    Returns:\n",
        "    - mean_estimate (float): Estimated mean height.\n",
        "    \"\"\"\n",
        "    # YOUR CODE HERE\n",
        "    x = 0\n",
        "    avg = []\n",
        "    while x <= num_samples:\n",
        "      avg.append(np.mean(np.random.choice(sample_data, sample_size, replace=False)))\n",
        "      x += 1\n",
        "\n",
        "    mean_estimate = np.mean(avg)\n",
        "    return mean_estimate\n",
        "    raise NotImplementedError()\n",
        "\n",
        "bootstrap_estimate_height(sample_data, num_samples, sample_size)"
      ]
    },
    {
      "cell_type": "code",
      "execution_count": 4,
      "metadata": {
        "deletable": false,
        "editable": false,
        "nbgrader": {
          "cell_type": "code",
          "checksum": "5acaf56dd83d25b5812b78f5ee956dbf",
          "grade": true,
          "grade_id": "my_bootstrapping_test",
          "locked": true,
          "points": 2,
          "schema_version": 3,
          "solution": false,
          "task": false
        },
        "id": "HGPI6Y9kJMy1"
      },
      "outputs": [],
      "source": [
        "# Check you solution by running this cell\n",
        "\n",
        "# Sample data (heights of students)\n",
        "sample_data = np.array([160, 165, 170, 175, 180, 185, 190, 160, 165, 170, 175, 180, 185, 190])\n",
        "\n",
        "# Parameters\n",
        "num_samples = 1000\n",
        "sample_size = len(sample_data)\n",
        "\n",
        "tolerance = 0.05\n",
        "assert np.allclose(bootstrap_estimate_height(sample_data, num_samples, sample_size), 175.02, rtol=tolerance)"
      ]
    },
    {
      "cell_type": "markdown",
      "metadata": {
        "id": "rb3LkkkhJMy1"
      },
      "source": [
        "---\n",
        "## Question 2:\n",
        "\n",
        "#### Majority Voting\n",
        "Given a list = `[1,2,3,2,2,1,3,3,3,2,2,1]`, consider 12 judges sitting and deciding among 3 contenders. Write a function to find the winner-based on a majority voting scheme."
      ]
    },
    {
      "cell_type": "code",
      "execution_count": 12,
      "metadata": {
        "deletable": false,
        "nbgrader": {
          "cell_type": "code",
          "checksum": "7cad86b0a0decd076f3d2ef47b730388",
          "grade": false,
          "grade_id": "my_pairedttest_ans",
          "locked": false,
          "schema_version": 3,
          "solution": true,
          "task": false
        },
        "id": "Q7gNeXrqJMy1"
      },
      "outputs": [],
      "source": [
        "def my_majorityvote(a):\n",
        "    \"\"\"Write a function to find the majority voting.\"\"\"\n",
        "    # YOUR CODE HERE\n",
        "    # Initialize counts to 0\n",
        "    count1 = 0\n",
        "    count2 = 0\n",
        "    count3 = 0\n",
        "\n",
        "    # Go through the votes and count each one\n",
        "    for i in a:\n",
        "      if i == 1:\n",
        "        count1 += 1\n",
        "      elif i == 2:\n",
        "        count2 += 1\n",
        "      else:\n",
        "        count3 += 1\n",
        "\n",
        "    # Tuple of final counts\n",
        "    max_count = max(count1, count2, count3)\n",
        "\n",
        "    # Returns majority vote\n",
        "    if max_count == count1:\n",
        "        return 1\n",
        "    elif max_count == count2:\n",
        "        return 2\n",
        "    elif max_count == count3:\n",
        "        return 3\n",
        "\n",
        "    raise NotImplementedError()"
      ]
    },
    {
      "cell_type": "code",
      "source": [
        "a = np.array([1,2,3,2,2,1,3,3,3,2,2,1])\n",
        "my_majorityvote(a)"
      ],
      "metadata": {
        "colab": {
          "base_uri": "https://localhost:8080/"
        },
        "id": "7p_Wb_WNdEKh",
        "outputId": "e7a6d163-02c1-4476-e7a3-3c19f39daf66"
      },
      "execution_count": 13,
      "outputs": [
        {
          "output_type": "execute_result",
          "data": {
            "text/plain": [
              "2"
            ]
          },
          "metadata": {},
          "execution_count": 13
        }
      ]
    },
    {
      "cell_type": "code",
      "execution_count": 14,
      "metadata": {
        "deletable": false,
        "editable": false,
        "nbgrader": {
          "cell_type": "code",
          "checksum": "8f9bbb784a631ef4cc695b93ae1f24a3",
          "grade": true,
          "grade_id": "my_pairedttest_test",
          "locked": true,
          "points": 2,
          "schema_version": 3,
          "solution": false,
          "task": false
        },
        "id": "SupsFLAXJMy2"
      },
      "outputs": [],
      "source": [
        "# Check you solution by running this cell\n",
        "# Test case 1\n",
        "a = np.array([1,2,3,2,2,1,3,3,3,2,2,1])\n",
        "assert my_majorityvote(a) == 2\n",
        "\n",
        "# Test case 2\n",
        "b = np.array([1,2,2,2,3,3,3,3,3,1])\n",
        "assert my_majorityvote(b) == 3"
      ]
    },
    {
      "cell_type": "markdown",
      "metadata": {
        "id": "4nQ_iWCFJMy2"
      },
      "source": [
        "---\n",
        "## Question 3:\n",
        "The `Gini index` is a measure of impurity or inequality used in `decision tree` algorithms. It quantifies the likelihood of misclassifying a randomly chosen element if it were randomly classified according to the distribution of labels in the node. The formula is given as follows:\n",
        "\n",
        "\n",
        "<img src=\"https://www.learnbymarketing.com/wp-content/uploads/2016/02/gini-index-formula.png\" alt=\"drawing\" style=\"width:200px;\"/>\n",
        "\n",
        "Write a function `calculate_gini_index` calculate `Gini index`. Labels is a list of class labels. Your function `calculate_gini_index` should calculates the `Gini index` based on the frequency of each class label in the dataset. Finally, it returns the Gini index value as an output.\n"
      ]
    },
    {
      "cell_type": "code",
      "execution_count": 15,
      "metadata": {
        "deletable": false,
        "nbgrader": {
          "cell_type": "code",
          "checksum": "dd9d6192891bdc46c6f1e8c74941ec4e",
          "grade": false,
          "grade_id": "my_GiniIdex",
          "locked": false,
          "schema_version": 3,
          "solution": true,
          "task": false
        },
        "id": "-TCVIs8-JMy2"
      },
      "outputs": [],
      "source": [
        "def calculate_gini_index(labels):\n",
        "    \"\"\"\n",
        "    Calculate the Gini index for a set of class labels.\n",
        "\n",
        "    Parameters:\n",
        "    - labels (list or numpy.ndarray): List of class labels.\n",
        "\n",
        "    Returns:\n",
        "    - gini_index (float): Gini index.\n",
        "    \"\"\"\n",
        "    # Count the number of each class\n",
        "    label_counts = {}\n",
        "    # Cycle through and count each\n",
        "    for label in labels:\n",
        "        if label in label_counts:\n",
        "            label_counts[label] += 1\n",
        "        else:\n",
        "            label_counts[label] = 1\n",
        "\n",
        "    # Calculate total number\n",
        "    total_samples = len(labels)\n",
        "\n",
        "    # Calculate the Gini index\n",
        "    gini_index = 1\n",
        "    for count in label_counts.values():\n",
        "        gini_index -= (count / total_samples) ** 2\n",
        "\n",
        "    return gini_index\n",
        "    raise NotImplementedError()"
      ]
    },
    {
      "cell_type": "code",
      "execution_count": 16,
      "metadata": {
        "deletable": false,
        "editable": false,
        "nbgrader": {
          "cell_type": "code",
          "checksum": "ac9523bae4e0d44ddcba28818ff88dc0",
          "grade": true,
          "grade_id": "my_GiniIdex_solution",
          "locked": true,
          "points": 2,
          "schema_version": 3,
          "solution": false,
          "task": false
        },
        "id": "A1HVw1txJMy2"
      },
      "outputs": [],
      "source": [
        "# Check you solution by running this cell\n",
        "\n",
        "# Test case 1\n",
        "labels = [1, 0, 1, 1, 1, 1, 0, 1]\n",
        "gini_index = calculate_gini_index(labels)\n",
        "assert gini_index == 0.375\n",
        "\n",
        "\n",
        "# Test case 2\n",
        "labels = [1, 0, 0, 0, 1, 1, 0, 1]\n",
        "gini_index = calculate_gini_index(labels)\n",
        "assert gini_index == 0.5\n"
      ]
    }
  ],
  "metadata": {
    "kernelspec": {
      "display_name": "Python 3",
      "language": "python",
      "name": "python3"
    },
    "language_info": {
      "codemirror_mode": {
        "name": "ipython",
        "version": 3
      },
      "file_extension": ".py",
      "mimetype": "text/x-python",
      "name": "python",
      "nbconvert_exporter": "python",
      "pygments_lexer": "ipython3",
      "version": "3.7.11"
    },
    "colab": {
      "provenance": [],
      "include_colab_link": true
    }
  },
  "nbformat": 4,
  "nbformat_minor": 0
}