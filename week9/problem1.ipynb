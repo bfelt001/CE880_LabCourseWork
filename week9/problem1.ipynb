{
  "cells": [
    {
      "cell_type": "markdown",
      "metadata": {
        "id": "view-in-github",
        "colab_type": "text"
      },
      "source": [
        "<a href=\"https://colab.research.google.com/github/bfelt001/CE880_LabCourseWork/blob/main/week9/problem1.ipynb\" target=\"_parent\"><img src=\"https://colab.research.google.com/assets/colab-badge.svg\" alt=\"Open In Colab\"/></a>"
      ]
    },
    {
      "cell_type": "markdown",
      "metadata": {
        "id": "-w-LDFwLKOPN"
      },
      "source": [
        "Before you turn this problem in, make sure everything runs as expected. First, **restart the kernel** (in the menubar, select Kernel$\\rightarrow$Restart) and then **run all cells** (in the menubar, select Cell$\\rightarrow$Run All).\n",
        "\n",
        "Make sure you fill in any place that says `YOUR CODE HERE` or \"YOUR ANSWER HERE\", as well as your name and collaborators below:"
      ]
    },
    {
      "cell_type": "code",
      "execution_count": null,
      "metadata": {
        "id": "v3_y0vlNKOPT"
      },
      "outputs": [],
      "source": [
        "NAME = \"Breanne Felton\"\n",
        "COLLABORATORS = \"2321566\""
      ]
    },
    {
      "cell_type": "markdown",
      "metadata": {
        "id": "37yh_PHOKOPV"
      },
      "source": [
        "---"
      ]
    },
    {
      "cell_type": "markdown",
      "metadata": {
        "id": "FgQHPHzLKOPV"
      },
      "source": [
        "---\n",
        "# Welcome to CE880\n",
        "### This is your week-9 : Problem notebook\n"
      ]
    },
    {
      "cell_type": "markdown",
      "metadata": {
        "id": "9NB1CBHAKOPW"
      },
      "source": [
        "---\n",
        "## Question 1:\n",
        "\n",
        "#### Balancing Imbalance Dataset\n",
        "An imbalanced dataset is a dataset where the distribution of `classes (or labels)` is skewed, meaning that one class has significantly more instances than the other class(es). This can lead to issues when training machine learning models, as they may become biased towards the majority class and perform poorly on predicting the minority class.\n",
        "\n",
        "To balance an imbalanced dataset using a basic approach, one common technique is random undersampling, where instances from the majority class are randomly removed until the dataset is balanced. Write a Python function to perform random undersampling:"
      ]
    },
    {
      "cell_type": "code",
      "execution_count": 4,
      "metadata": {
        "deletable": false,
        "nbgrader": {
          "cell_type": "code",
          "checksum": "a2b351e50b3dbee7097b40120b95cdea",
          "grade": false,
          "grade_id": "my_model_ans",
          "locked": false,
          "schema_version": 3,
          "solution": true,
          "task": false
        },
        "id": "5mO9eFzWKOPW"
      },
      "outputs": [],
      "source": [
        "import numpy as np\n",
        "\n",
        "def balance_data(X, y):\n",
        "    \"\"\"\n",
        "    Balance the dataset by randomly undersampling the majority class.\n",
        "\n",
        "    Parameters:\n",
        "    - X (numpy.ndarray): Feature data.\n",
        "    - y (numpy.ndarray): Target labels.\n",
        "\n",
        "    Returns:\n",
        "    - X_balanced (numpy.ndarray): Balanced feature data.\n",
        "    - y_balanced (numpy.ndarray): Balanced target labels.\n",
        "    \"\"\"\n",
        "    # YOUR CODE HERE\n",
        "    # Count the number of instances for each class\n",
        "    unique_labels, label_counts = np.unique(y, return_counts=True)\n",
        "\n",
        "    # Find the majority and minority classes\n",
        "    majority_label = unique_labels[np.argmax(label_counts)]\n",
        "    majority_label_count = np.max(label_counts)\n",
        "    minority_label = unique_labels[np.argmin(label_counts)]\n",
        "    minority_label_count = np.min(label_counts)\n",
        "\n",
        "    # Determine the target number of samples per class\n",
        "    target_samples_per_class = minority_label_count\n",
        "\n",
        "    # Create the balanced feature and target arrays\n",
        "    balanced_features = []\n",
        "    balanced_labels = []\n",
        "\n",
        "    # Undersample the majority class\n",
        "    majority_label_indices = np.where(y == majority_label)[0]\n",
        "    undersampled_majority_indices = np.random.choice(majority_label_indices, size=target_samples_per_class, replace=False)\n",
        "    balanced_features.extend(X[undersampled_majority_indices])\n",
        "    balanced_labels.extend(y[undersampled_majority_indices])\n",
        "\n",
        "    # Add all the minority class samples\n",
        "    minority_label_indices = np.where(y == minority_label)[0]\n",
        "    balanced_features.extend(X[minority_label_indices])\n",
        "    balanced_labels.extend(y[minority_label_indices])\n",
        "\n",
        "    # Convert the lists to NumPy arrays\n",
        "    X_balanced = np.array(balanced_features)\n",
        "    y_balanced = np.array(balanced_labels)\n",
        "\n",
        "    return X_balanced, y_balanced\n",
        "    raise NotImplementedError()"
      ]
    },
    {
      "cell_type": "code",
      "execution_count": 5,
      "metadata": {
        "deletable": false,
        "editable": false,
        "nbgrader": {
          "cell_type": "code",
          "checksum": "bf63a0b04b308eac0a19464ac0dec80a",
          "grade": true,
          "grade_id": "balance_test1",
          "locked": true,
          "points": 4,
          "schema_version": 3,
          "solution": false,
          "task": false
        },
        "id": "l8FzkEoAKOPX",
        "colab": {
          "base_uri": "https://localhost:8080/"
        },
        "outputId": "6985de26-39bb-4ab7-a1d2-d103ba74f754"
      },
      "outputs": [
        {
          "output_type": "stream",
          "name": "stdout",
          "text": [
            "[1 1 0 0]\n"
          ]
        }
      ],
      "source": [
        "# Passing this test case will give you 4 marks\n",
        "# Test case with imbalanced dataset\n",
        "X_test = np.array([[1, 2], [2, 3], [3, 4], [4, 5], [5, 6], [6, 7]])\n",
        "y_test = np.array([0, 0, 1, 1, 1, 1])\n",
        "\n",
        "X_balanced_test, y_balanced_test = balance_data(X_test, y_test)\n",
        "print(y_balanced_test)\n",
        "# Check if the balanced dataset has equal instances of each class\n",
        "unique_classes, class_counts = np.unique(y_balanced_test, return_counts=True)\n",
        "assert np.all(class_counts == class_counts[0]), \"Balanced dataset should have equal instances of each class\""
      ]
    },
    {
      "cell_type": "code",
      "execution_count": 6,
      "metadata": {
        "deletable": false,
        "editable": false,
        "nbgrader": {
          "cell_type": "code",
          "checksum": "c18a0d0009af56e4382a72b758b3a89b",
          "grade": true,
          "grade_id": "balance_test2",
          "locked": true,
          "points": 5,
          "schema_version": 3,
          "solution": false,
          "task": false
        },
        "id": "-pK60EVCKOPX",
        "colab": {
          "base_uri": "https://localhost:8080/"
        },
        "outputId": "f358f7d9-14a4-4ead-9872-87412d96717d"
      },
      "outputs": [
        {
          "output_type": "stream",
          "name": "stdout",
          "text": [
            "[0 1]\n"
          ]
        }
      ],
      "source": [
        "# Passing this test case will give you 5 marks\n",
        "# Test case with imbalanced dataset\n",
        "\n",
        "\n",
        "X_test = np.array([[1, 2], [2, 3], [3, 4], [4, 5], [5, 6], [6, 7]])\n",
        "y_test = np.array([0, 0, 0, 0, 0, 1])\n",
        "\n",
        "X_balanced_test, y_balanced_test = balance_data(X_test, y_test)\n",
        "print(y_balanced_test)\n",
        "# Check if the balanced dataset has equal instances of each class\n",
        "unique_classes, class_counts = np.unique(y_balanced_test, return_counts=True)\n",
        "assert np.all(class_counts == class_counts[0]), \"Balanced dataset should have equal instances of each class\""
      ]
    },
    {
      "cell_type": "code",
      "execution_count": null,
      "metadata": {
        "id": "auvVa1oTKOPX"
      },
      "outputs": [],
      "source": []
    }
  ],
  "metadata": {
    "kernelspec": {
      "display_name": "Python 3",
      "language": "python",
      "name": "python3"
    },
    "language_info": {
      "codemirror_mode": {
        "name": "ipython",
        "version": 3
      },
      "file_extension": ".py",
      "mimetype": "text/x-python",
      "name": "python",
      "nbconvert_exporter": "python",
      "pygments_lexer": "ipython3",
      "version": "3.7.11"
    },
    "colab": {
      "provenance": [],
      "include_colab_link": true
    }
  },
  "nbformat": 4,
  "nbformat_minor": 0
}